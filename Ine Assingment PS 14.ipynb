{
 "cells": [
  {
   "cell_type": "code",
   "execution_count": null,
   "id": "84b22d47",
   "metadata": {},
   "outputs": [],
   "source": [
    "1.What does RGBA stand for?\n",
    "ANS=RGBA(Red-Green-Blue-Alpha)"
   ]
  },
  {
   "cell_type": "code",
   "execution_count": null,
   "id": "f0219143",
   "metadata": {},
   "outputs": [],
   "source": [
    "2.From the Pillow module, how do you get the RGBA value of any images?\n",
    "ANS=Import Image from PIL library.\n",
    "Use Image. open() method and pass the path to image file as argument.\n",
    "Image. open() returns an Image object. You can store this image object and apply image operations on it."
   ]
  },
  {
   "cell_type": "code",
   "execution_count": null,
   "id": "60e18e91",
   "metadata": {},
   "outputs": [],
   "source": [
    "3.What is a box tuple, and how does it work?\n",
    "ANS=Pillow is expecting a tuple of four integer coordinates that represent a rectangular region in an image.\n",
    "box.tuple.new()Create a tuple"
   ]
  },
  {
   "cell_type": "code",
   "execution_count": null,
   "id": "1e4ab739",
   "metadata": {},
   "outputs": [],
   "source": [
    "4.Use your image and load in notebook then, How can you find out the width and height of an Image object?\n",
    "ANs=from PIL import Image\n",
    "filepath = \"myimage.png\"\n",
    "img = Image.open(filepath)\n",
    "width = img.width\n",
    "height = img.height\n",
    "print(\"The height of the image is: \", height)\n",
    "print(\"The width of the image is: \", width)"
   ]
  },
  {
   "cell_type": "code",
   "execution_count": null,
   "id": "573fe161",
   "metadata": {},
   "outputs": [],
   "source": [
    "5.What method would you call to get Image object for a 100×100 image, excluding the lower-left quarter of it?\n",
    "ANS=Use resize() to resize the whole image instead of cutting out a part of the image, and use putalpha() to create a transparent image by cutting out a shape other than a rectangle (such as a circle)"
   ]
  },
  {
   "cell_type": "code",
   "execution_count": null,
   "id": "76480464",
   "metadata": {},
   "outputs": [],
   "source": [
    "6.To save images, we can use the PIL. save() function. This function is used to export an image to an external file. But to use this function, first, we should have an object which contains an image.\n",
    "ANS=To save images, we can use the PIL. save() function. This function is used to export an image to an external file. But to use this function, first, we should have an object which contains an image."
   ]
  },
  {
   "cell_type": "code",
   "execution_count": null,
   "id": "7980254d",
   "metadata": {},
   "outputs": [],
   "source": [
    "7. What module contains Pillow’s shape-drawing code?\n",
    "ANS=ImageDraw module of the Python image processing library Pillow (PIL) provides many methods for drawing figures, such as circles, squares, and straight lines"
   ]
  },
  {
   "cell_type": "code",
   "execution_count": null,
   "id": "2f76d395",
   "metadata": {},
   "outputs": [],
   "source": [
    "8.Image objects do not have drawing methods. What kind of object does? How do you get this kind of object?\n",
    "ANS=An object in digital image processing is an identifiable portion of an image that can be interpreted as a single unit."
   ]
  },
  {
   "cell_type": "code",
   "execution_count": null,
   "id": "b761a38a",
   "metadata": {},
   "outputs": [],
   "source": []
  },
  {
   "cell_type": "code",
   "execution_count": null,
   "id": "d3573e5a",
   "metadata": {},
   "outputs": [],
   "source": []
  },
  {
   "cell_type": "code",
   "execution_count": null,
   "id": "535b0638",
   "metadata": {},
   "outputs": [],
   "source": []
  }
 ],
 "metadata": {
  "kernelspec": {
   "display_name": "Python 3",
   "language": "python",
   "name": "python3"
  },
  "language_info": {
   "codemirror_mode": {
    "name": "ipython",
    "version": 3
   },
   "file_extension": ".py",
   "mimetype": "text/x-python",
   "name": "python",
   "nbconvert_exporter": "python",
   "pygments_lexer": "ipython3",
   "version": "3.9.5"
  }
 },
 "nbformat": 4,
 "nbformat_minor": 5
}
